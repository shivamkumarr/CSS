{
  "nbformat": 4,
  "nbformat_minor": 0,
  "metadata": {
    "colab": {
      "provenance": []
    },
    "kernelspec": {
      "name": "python3",
      "display_name": "Python 3"
    },
    "language_info": {
      "name": "python"
    }
  },
  "cells": [
    {
      "cell_type": "markdown",
      "source": [
        "# Layout and Positioning FSD-AG-002"
      ],
      "metadata": {
        "id": "rG2d66tO0bLq"
      }
    },
    {
      "cell_type": "markdown",
      "source": [
        "# Question 1 : What are semantic HTML elements? Why is using them important for web development?\n",
        "  - Answer: Semantic Html elements are the Html tags that gives the clear meaning and role of the content they enclose.\n",
        "    - Instead of using generic div and span tags semantic tags gives context to both browser and developers.\n",
        "\n",
        "    Here are some Semantic Tags\n",
        "\n",
        "    \n",
        "\n",
        "*   `<Header>` -  It is used for Header of the Html Page.\n",
        "*  ` <Nav>` - It is used for the navigation of the Html Page.\n",
        "*   `<main>` - It is used for the Main Content of the Html Page.\n",
        "*   `<section>`  -  It is used for a thematic group of the content.\n",
        "*   `<article>`  - It is a self contained resuable content block.\n",
        "*   `<aside>`  -  It is used for the content indirectly related to the main.\n",
        "*   `<footer>` - It is used for the footer section of the Html document.\n",
        "\n",
        "Above are some examples of the semantic html elements.\n",
        "\n",
        "  -> Importance in web development.\n",
        "\n",
        "  Semantic Tags are very important in Web development due to several reasons the reasons are as follows.\n",
        "\n",
        "  1. **Accessibility** - Screen Reader and assistive technology can understand and navigate the structure better helping visually impared users.\n",
        "  2. **SEO (Search Engine Optimization)** -  Search engines uses the semantic tags to understand the page content and hierrarchy and helps in improving indexing and searching.\n",
        "\n",
        "  3. **Maintainability and Readability** - Code is easier to read and maintain because the structure reflects the actual layout and purpose of the content.\n",
        "  4.**Standardization:**\n",
        " Helps enforce web development best practices and ensures compatibility across devices and browsers.\n",
        "\n",
        "  5.**Improved Collaboration:**\n",
        " Developers and designers can understand page structure quickly, which helps in collaborative projects."
      ],
      "metadata": {
        "id": "EWIkeDYZ0oxG"
      }
    },
    {
      "cell_type": "markdown",
      "source": [
        "# Question 2: You're designing a blog page. Which semantic elements would you use to structure the page, and why?\n",
        "  - Answer\n",
        "  For designing a blog page we will use the following semantic elements.\n",
        "\n",
        " * `<header>`\tFor the blog title and navigation (top of the page)\n",
        " * `<nav>`\tTo define site-wide navigation links\n",
        " * `<main>`\tMain content area for blog posts\n",
        " * `<section>`\tGroups related blog posts\n",
        " * `<article>`\tEach blog post is a standalone, reusable piece of content\n",
        " * `<time>`\tSemantically marks the publication date of the post\n",
        " * `<aside>`\tFor side content like author bio, popular posts, ads, etc.\n",
        " * `<footer>`\tSite-wide footer (e.g., copyright, legal links, etc.)\n",
        "\n",
        "   Using semantic elements like `<header>`, `<article>`, `<section>`, and `<footer>` creates a clear, accessible, and SEO-friendly structure for your blog page—benefiting both users and developers"
      ],
      "metadata": {
        "id": "BF-JSMBo8UTj"
      }
    },
    {
      "cell_type": "markdown",
      "source": [
        "# Question 3: How can you make an HTML form more accessible to users with disabilities?\n",
        "  - Answer:\n",
        "  1. Use `<label>` Elements Properly.\n",
        "\n",
        "   Connect each form field with a `<label>` to describe its purpose.\n",
        "```\n",
        "<label for=\"email\">Email Address:</label>\n",
        "   <input type=\"email\" id=\"email\" name=\"email\" />\n",
        "```\n",
        "  2. Use `aria-*` Attributes When Needed.\n",
        "   - Use aria-label, aria-describedby, or aria-required to add extra context for assistive technologies.\n",
        "\n",
        "  ` <input type=\"text\" aria-label=\"Search input\" />`\n",
        "\n",
        "  3.  Use Fieldsets and Legends for Grouped Inputs\n",
        "\n",
        "    For checkboxes/radio buttons that belong to a group, use `<fieldset>` and `<legend>`\n",
        "\n",
        "```\n",
        "  <fieldset>\n",
        "    <legend>Choose your favorite fruit:</legend>\n",
        "    <label><input type=\"radio\" name=\"fruit\" value=\"apple\" /> Apple</label>\n",
        "    <label><input type=\"radio\" name=\"fruit\" value=\"banana\" /> Banana</label>\n",
        "  </fieldset>\n",
        "```\n",
        "4. Ensure Keyboard Navigation\n",
        "All form controls (inputs, buttons) should be reachable via Tab key.\n",
        "\n",
        "Avoid elements that require mouse-only interaction (e.g., custom dropdowns without keyboard support).\n",
        "\n",
        "5. Use placeholder for Hints, Not Labels\n",
        "placeholder should be used for examples, not to replace `<label>` elements, as they disappear when typing and are not always read by screen readers.\n",
        "\n",
        "6. Provide Clear Error Messages\n",
        "Show textual and visual cues (like red borders or error text) when input validation fails.\n",
        "\n",
        "Use aria-live to announce errors to screen readers.\n",
        "```\n",
        "   <div id=\"emailError\" role=\"alert\">Email is required.</div>\n",
        "   <input type=\"email\" aria-describedby=\"emailError\" />\n",
        "```\n",
        "\n",
        "7. Use Accessible Button Text\n",
        "Buttons should have meaningful text like \"Submit\" or \"Search\" instead of just \"Click here\".\n",
        "`<button type=\"submit\">Subscribe</button>`"
      ],
      "metadata": {
        "id": "kEg7X8DHBdS-"
      }
    },
    {
      "cell_type": "markdown",
      "source": [
        "# Question 4: Identify and correct the errors in the following CSS code:\n",
        "```\n",
        "p {\n",
        "font-size: 16;\n",
        "color: #333\n",
        "margin-top 10px;\n",
        "}\n",
        "```\n",
        "  - Answer\n",
        "\n",
        " * Missing unit in font-size\n",
        "16 should be 16px or another valid CSS unit like em, rem.\n",
        "\n",
        " * Missing semicolon after color: #333\n",
        "Every declaration should end with a semicolon ;.\n",
        "\n",
        " * Missing colon in margin-top\n",
        "Syntax is property: value, not property value\n",
        "\n",
        "```\n",
        "  p {\n",
        "     font-size: 16px;\n",
        "     color: #333;\n",
        "     margin-top: 10px;\n",
        "    }\n",
        "```\n"
      ],
      "metadata": {
        "id": "WCpIo1z6Ele0"
      }
    },
    {
      "cell_type": "markdown",
      "source": [
        "# Question 5: Write CSS rules to style all `<h2>` elements inside a `<section> `with a blue color and center alignment.\n",
        "  - Answer\n",
        "\n",
        "```\n",
        "  section h2 {\n",
        "  color: blue;\n",
        "  text-align: center;\n",
        "  }\n",
        "```\n",
        "* section h2: This selector targets all `<h2>` elements that are inside any `<section>`.\n",
        "\n",
        "* color: blue;: Sets the text color to blue.\n",
        "\n",
        "* text-align: center;: Centers the text horizontally.\n",
        "\n"
      ],
      "metadata": {
        "id": "WasfrgiUFkqP"
      }
    },
    {
      "cell_type": "markdown",
      "source": [
        "# Question 6: Explain the CSS box model and its components.\n",
        "  - Answer\n",
        "  The Css Box model is a fundamental concept in CSS that describes how html elemenents are rendered as rectangular boxes in a web page. Each elements is treated as a box. and this model defines the components that makes up that box, determining its size, spacing and appearance.\n",
        "\n",
        "  --> The CSS Box model consist of four main concepts from innermost to outermost.\n",
        "\n",
        "  1. Content Area -\n",
        "  This is innermost part of the box that conatins the actual content such as images, texts or other media.\n",
        "\n",
        "  Its dimensions are determined by the width and height properties, which by default refers to the content area's dimension.\n",
        "\n",
        "  2. Padding Area -\n",
        "  The padding area surround the content area and create space between the content and the element's border.\n",
        "\n",
        "  It is controlled by the padding properties (e.g., padding-top, padding-right, padding-bottom, padding-left, or the shorthand padding).\n",
        "  The background of the element extends into the padding area.\n",
        "\n",
        "  3. Border Area -\n",
        "  The border area encloses the padding area and the content area. It acts as a visual boundry for the element.\n",
        "\n",
        "  Its appearance (width, style, and color) is defined by the border properties (e.g., border-width, border-style, border-color, or the shorthand border).\n",
        "\n",
        "  4. Margin Area -\n",
        "  The margin area is the outermost layer, creating space outside elements border, separating it from the neighbouring elements.\n",
        "\n",
        "  It is controlled by the margin properties (e.g., margin-top, margin-right, margin-bottom, margin-left, or the shorthand margin).\n",
        "  \n",
        "  The margin area is transparent and does not display the element's background."
      ],
      "metadata": {
        "id": "PzW3D2dwGt1r"
      }
    },
    {
      "cell_type": "markdown",
      "source": [
        "# Question 7: How do the relative, absolute, and fixed positioning properties differ in CSS?\n",
        "  - Answer -\n",
        "  CSS Positioning allows you to control how and where the elements appears on the page. Here's how these three types differ.\n",
        "\n",
        "  1. Position: relative\n",
        "\n",
        "    an element with position relative is positioned to its normal position in the document flow. while you can use top, bottom, left or right to offset its position, the element still occupies its original space in the layout, and the other elements will not fill the gap left by its movement. This is often use as a positioning context for absolutely positioned children.\n",
        "\n",
        "  2. Position: absolute\n",
        "\n",
        "    an element with postion absolute is removed from the normal document flow and positioned relative to its closest position position (non-static) ancestor exists. It is positioned relative to its initial containing block (usually the `<html>` element). When an element is absolutely positioned, other elements will behave as if it doesn't exist in the flow, potentially filling the space it would have occupied.\n",
        "\n",
        "  3. Position: fixed\n",
        "\n",
        "    An element with Position fixed is also removed from the normal document flow but is position relative to the viewport (the browser window). This means that a fixed element will remain the same position on the screen even when the user scrolls the page. This is commonly used for elements like persistent headers, footers, or navigation bars.\n",
        "      "
      ],
      "metadata": {
        "id": "akmgX2NyZJ9E"
      }
    },
    {
      "cell_type": "markdown",
      "source": [
        "# Question 8: Write a CSS rule to set a background image for a <div> with the class .banner, ensuring the image covers the entire area without repeating.\n",
        "\n",
        "  - Answer\n",
        "\n",
        "\n",
        "```\n",
        ".banner {\n",
        "  background-image: url('image.jpg');\n",
        "  background-size: cover;\n",
        "  background-repeat: no-repeat;\n",
        "  background-position: center;\n",
        "}\n",
        "```\n",
        "\n",
        "background-image: Sets the image.\n",
        "\n",
        "background-size: cover: Scales the image to cover the entire area of the div.\n",
        "\n",
        "background-repeat: no-repeat: Prevents the image from repeating.\n",
        "\n",
        "background-position: center: Centers the image within the div.\n",
        "\n"
      ],
      "metadata": {
        "id": "xVkyIi4bxhBc"
      }
    }
  ]
}